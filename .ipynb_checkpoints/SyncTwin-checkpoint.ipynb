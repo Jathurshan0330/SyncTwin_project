{
 "cells": [
  {
   "cell_type": "code",
   "execution_count": 170,
   "id": "99ddaf2a-fe69-4785-b9a0-9c4232abf07b",
   "metadata": {},
   "outputs": [],
   "source": [
    "### Trying to reproduce the results using transformers\n",
    "\n",
    "import copy\n",
    "from typing import Optional, Any\n",
    "import torch\n",
    "import torch.nn as nn\n",
    "from torch import Tensor\n",
    "from torch.nn import functional as F\n",
    "from torch.nn import Module\n",
    "from torch.nn import MultiheadAttention\n",
    "from torch.nn import ModuleList\n",
    "from torch.nn.init import xavier_uniform_\n",
    "from torch.nn import Dropout\n",
    "from torch.nn import Linear\n",
    "from torch.nn import LayerNorm, BatchNorm1d\n",
    "from einops import rearrange, reduce, repeat\n",
    "from einops.layers.torch import Rearrange, Reduce\n",
    "import math\n",
    "\n",
    "from torch.utils.data import Dataset, DataLoader\n",
    "from config.config import DEVICE\n",
    "import time\n",
    "import os\n",
    "import numpy as np\n",
    "import matplotlib.pyplot as plt"
   ]
  },
  {
   "cell_type": "code",
   "execution_count": null,
   "id": "7df6e1b9-7a69-4b11-9af9-e2e00eef8a0a",
   "metadata": {},
   "outputs": [],
   "source": []
  },
  {
   "cell_type": "markdown",
   "id": "0d88fb9f-59d2-4a4c-bda8-9f71c67137a2",
   "metadata": {},
   "source": [
    "## Load Data"
   ]
  },
  {
   "cell_type": "code",
   "execution_count": 2,
   "id": "e7494cc5-1591-4d75-85c2-bb7df3746797",
   "metadata": {},
   "outputs": [],
   "source": [
    "import pickle\n",
    "def load_config(data_path, fold=\"train\"):\n",
    "    with open(data_path.format(fold, \"config\", \"pkl\"), \"rb\") as f:\n",
    "        config = pickle.load(file=f)\n",
    "    n_units = config[\"n_units\"]\n",
    "    n_treated = config[\"n_treated\"]\n",
    "    n_units_total = config[\"n_units_total\"]\n",
    "    step = config[\"step\"]\n",
    "    train_step = config[\"train_step\"]\n",
    "    control_sample = config[\"control_sample\"]\n",
    "    noise = config[\"noise\"]\n",
    "    n_basis = config[\"n_basis\"]\n",
    "    n_cluster = config[\"n_cluster\"]\n",
    "    return n_units, n_treated, n_units_total, step, train_step, control_sample, noise, n_basis, n_cluster\n",
    "\n",
    "def load_tensor(data_path, fold=\"train\"):\n",
    "    print(data_path.format(fold, \"x_full\", \"pth\"))\n",
    "    x_full = torch.load(data_path.format(fold, \"x_full\", \"pth\"))\n",
    "    t_full = torch.load(data_path.format(fold, \"t_full\", \"pth\"))\n",
    "    mask_full = torch.load(data_path.format(fold, \"mask_full\", \"pth\"))\n",
    "    batch_ind_full = torch.load(data_path.format(fold, \"batch_ind_full\", \"pth\"))\n",
    "    y_full = torch.load(data_path.format(fold, \"y_full\", \"pth\"))\n",
    "    y_control = torch.load(data_path.format(fold, \"y_control\", \"pth\"))\n",
    "    y_mask_full = torch.load(data_path.format(fold, \"y_mask_full\", \"pth\"))\n",
    "    m = torch.load(data_path.format(fold, \"m\", \"pth\"))\n",
    "    sd = torch.load(data_path.format(fold, \"sd\", \"pth\"))\n",
    "    treatment_effect = torch.load(data_path.format(fold, \"treatment_effect\", \"pth\"))\n",
    "    return x_full, t_full, mask_full, batch_ind_full, y_full, y_control, y_mask_full, m, sd, treatment_effect\n"
   ]
  },
  {
   "cell_type": "code",
   "execution_count": 3,
   "id": "63dec31e-0d49-4782-97aa-ea97a08ea7d6",
   "metadata": {},
   "outputs": [],
   "source": [
    "data_path = \"./data/sync6d-p10-seed-100\"+ \"/{}-{}.{}\"\n",
    "n_units, n_treated, n_units_total, step, train_step, control_sample, noise, n_basis, n_cluster = load_config(\n",
    "    data_path, \"train\"\n",
    ")"
   ]
  },
  {
   "cell_type": "code",
   "execution_count": 4,
   "id": "7eb9fa60-bac1-4a0f-9ba0-44938f101e9e",
   "metadata": {},
   "outputs": [
    {
     "name": "stdout",
     "output_type": "stream",
     "text": [
      "1000 200 1200 30 25 1000 0.1 6 2\n"
     ]
    }
   ],
   "source": [
    "print(n_units, n_treated, n_units_total, step, train_step, control_sample, noise, n_basis, n_cluster)"
   ]
  },
  {
   "cell_type": "code",
   "execution_count": 5,
   "id": "7a5eca5a-4f13-430d-a400-2bd71479c0fd",
   "metadata": {},
   "outputs": [
    {
     "name": "stdout",
     "output_type": "stream",
     "text": [
      "./data/sync6d-p10-seed-100/train-x_full.pth\n"
     ]
    }
   ],
   "source": [
    "(x_full,t_full,mask_full,batch_ind_full,y_full,y_control,y_mask_full,m,sd,treatment_effect,) = load_tensor(data_path, \"train\")"
   ]
  },
  {
   "cell_type": "code",
   "execution_count": 6,
   "id": "483279f3-d5a6-4274-a50f-b074e73d1c01",
   "metadata": {},
   "outputs": [
    {
     "name": "stdout",
     "output_type": "stream",
     "text": [
      "x_full: torch.Size([25, 1200, 3])\n",
      "t_full: torch.Size([25, 1200, 3])\n",
      "mask_full: torch.Size([25, 1200, 3])\n",
      "batch_ind_full: torch.Size([1200])\n",
      "y_full: torch.Size([5, 1200, 1])\n",
      "y_control: torch.Size([5, 1000, 1])\n",
      "treatment_effect: torch.Size([5, 200, 1])\n",
      "y_mask_full: torch.Size([1200])\n",
      "m: torch.Size([3]) tensor([0.0118, 0.1373, 1.0291], device='cuda:3')\n",
      "sd: torch.Size([3]) tensor([0.7947, 3.5020, 7.6243], device='cuda:3')\n"
     ]
    }
   ],
   "source": [
    "print(f'x_full: {x_full.shape}') ### Temporal Covariates\n",
    "print(f't_full: {t_full.shape}') ###  Time -25 to 4\n",
    "print(f'mask_full: {mask_full.shape}') ### Masking vector\n",
    "print(f'batch_ind_full: {batch_ind_full.shape}') ### Batch indexes\n",
    "print(f'y_full: {y_full.shape}')   ### y_i ### need to predict this\n",
    "print(f'y_control: {y_control.shape}') #### y_i(0)\n",
    "print(f'treatment_effect: {treatment_effect.shape}')  #### y_i(1)\n",
    "print(f'y_mask_full: {y_mask_full.shape}') ### To separate control and treatment groups  \n",
    "print(f'm: {m.shape} {m}') \n",
    "print(f'sd: {sd.shape} {sd}')\n"
   ]
  },
  {
   "cell_type": "code",
   "execution_count": 7,
   "id": "3c8d5a04-7a0c-4b20-a391-21ddfebc984d",
   "metadata": {},
   "outputs": [],
   "source": [
    "class LDL_Stim_Dataset(Dataset):\n",
    "    def __init__(self, data_path, fold,device):\n",
    "        # Get the data\n",
    "        (self.x_full,self.t_full,self.mask_full,self.batch_ind_full,\n",
    "         self.y_full,self.y_control,self.y_mask_full,\n",
    "         self.m,self.sd,self.treatment_effect,) = load_tensor(data_path, fold)\n",
    "        print(self.m,self.sd)\n",
    "        # print(self.x_full.max(),self.x_full.min(),self.x_full.mean())\n",
    "        self.x_full = torch.moveaxis(self.x_full,1,0)\n",
    "        # self.x_full = torch.moveaxis(self.x_full,1,-1)\n",
    "        self.t_full = torch.moveaxis(self.t_full,1,0)\n",
    "        # self.t_full = torch.moveaxis(self.t_full,1,-1)\n",
    "        self.mask_full = torch.moveaxis(self.mask_full,1,0)\n",
    "        # self.mask_full = torch.moveaxis(self.mask_full,1,-1)\n",
    "        self.y_full = torch.moveaxis(self.y_full,1,0).squeeze()\n",
    "        self.y_control = torch.moveaxis(self.y_control,1,0)\n",
    "        self.treatment_effect = torch.moveaxis(self.treatment_effect,1,0)\n",
    "        # print(self.batch_ind_full)\n",
    "        self.device = device\n",
    "        # for i in range (self.x_full.shape[-1]):\n",
    "        #     self.x_full[:,:,i] = (self.x_full[:,:,i] - self.m[i])/self.sd[i]\n",
    "        # print(self.x_full.max(),self.x_full.min(),self.x_full.mean())\n",
    "        print(f'x_full: {self.x_full.shape}') ### Temporal Covariates\n",
    "        print(f't_full: {self.t_full.shape}') ###  Time -25 to 4\n",
    "        print(f'mask_full: {self.mask_full.shape}') ### Masking vector\n",
    "        print(f'batch_ind_full: {self.batch_ind_full.shape}') ### Batch indexes\n",
    "        print(f'y_full: {self.y_full.shape}')   ### y_i ### need to predict this\n",
    "        print(f'y_control: {self.y_control.shape}') #### y_i(0)\n",
    "        print(f'treatment_effect: {self.treatment_effect.shape}')  #### y_i(1)\n",
    "        print(f'y_mask_full: {self.y_mask_full.shape}') ### if outcome not available during \n",
    "        print(f'm: {self.m.shape}') \n",
    "        print(f'sd: {self.sd.shape}')\n",
    "\n",
    "        \n",
    "    def __len__(self):\n",
    "        return len(self.x_full)\n",
    "\n",
    "    def __getitem__(self, idx):\n",
    "        x = self.x_full[idx].to(self.device)    \n",
    "        t = self.t_full[idx].to(self.device)    \n",
    "        m = self.mask_full[idx].to(self.device)    \n",
    "        y = self.y_full[idx].to(self.device)    \n",
    "        y_mask = self.y_mask_full[idx].unsqueeze(-1).to(self.device)    \n",
    "        return x,t,m,y,y_mask"
   ]
  },
  {
   "cell_type": "code",
   "execution_count": 8,
   "id": "cdd52b89-d1d2-4e61-a9a7-0eb845ed7419",
   "metadata": {},
   "outputs": [
    {
     "name": "stdout",
     "output_type": "stream",
     "text": [
      "./data/sync6d-p10-seed-100/train-x_full.pth\n",
      "tensor([0.0118, 0.1373, 1.0291], device='cuda:3') tensor([0.7947, 3.5020, 7.6243], device='cuda:3')\n",
      "x_full: torch.Size([1200, 25, 3])\n",
      "t_full: torch.Size([1200, 25, 3])\n",
      "mask_full: torch.Size([1200, 25, 3])\n",
      "batch_ind_full: torch.Size([1200])\n",
      "y_full: torch.Size([1200, 5])\n",
      "y_control: torch.Size([1000, 5, 1])\n",
      "treatment_effect: torch.Size([200, 5, 1])\n",
      "y_mask_full: torch.Size([1200])\n",
      "m: torch.Size([3])\n",
      "sd: torch.Size([3])\n",
      "./data/sync6d-p10-seed-100/val-x_full.pth\n",
      "tensor([0.0024, 0.0946, 0.9151], device='cuda:3') tensor([0.7631, 3.3575, 7.2832], device='cuda:3')\n",
      "x_full: torch.Size([1200, 25, 3])\n",
      "t_full: torch.Size([1200, 25, 3])\n",
      "mask_full: torch.Size([1200, 25, 3])\n",
      "batch_ind_full: torch.Size([1200])\n",
      "y_full: torch.Size([1200, 5])\n",
      "y_control: torch.Size([1000, 5, 1])\n",
      "treatment_effect: torch.Size([200, 5, 1])\n",
      "y_mask_full: torch.Size([1200])\n",
      "m: torch.Size([3])\n",
      "sd: torch.Size([3])\n"
     ]
    }
   ],
   "source": [
    "data_path = \"./data/sync6d-p10-seed-100\"+ \"/{}-{}.{}\"\n",
    "train_dataset = LDL_Stim_Dataset(data_path, fold = 'train',device = DEVICE)\n",
    "val_dataset = LDL_Stim_Dataset(data_path, fold = 'val',device = DEVICE)"
   ]
  },
  {
   "cell_type": "code",
   "execution_count": 9,
   "id": "9a5c700e-b477-4817-a40b-79d4ca443010",
   "metadata": {},
   "outputs": [],
   "source": [
    "train_data_loader = DataLoader(train_dataset, batch_size = 32, shuffle = True)\n",
    "val_data_loader = DataLoader(val_dataset, batch_size = 32, shuffle = False)"
   ]
  },
  {
   "cell_type": "code",
   "execution_count": 10,
   "id": "a41e1ef0-4e3d-4f73-9d7f-b696b6d8cc21",
   "metadata": {},
   "outputs": [
    {
     "name": "stdout",
     "output_type": "stream",
     "text": [
      "torch.Size([32, 25, 3]) torch.Size([32, 25, 3]) torch.Size([32, 25, 3]) torch.Size([32, 5]) torch.Size([32, 1])\n"
     ]
    }
   ],
   "source": [
    "x,t,m,y,y_mask   = next(iter(train_data_loader))\n",
    "print(x.shape,t.shape,m.shape,y.shape,y_mask.shape )"
   ]
  },
  {
   "cell_type": "markdown",
   "id": "d4257d08-85f3-4f72-86dd-6a3fb78116c0",
   "metadata": {},
   "source": [
    "## Model"
   ]
  },
  {
   "cell_type": "code",
   "execution_count": 11,
   "id": "70b5ba82-c99d-41d1-b8ab-3ed1f404bf49",
   "metadata": {},
   "outputs": [],
   "source": [
    "def _get_clones(module, N):\n",
    "    return ModuleList([copy.deepcopy(module) for i in range(N)])\n",
    "\n",
    "\n",
    "def _get_activation_fn(activation):\n",
    "    if activation == \"relu\":\n",
    "        return F.relu\n",
    "    elif activation == \"gelu\":\n",
    "        return F.gelu\n",
    "\n",
    "    raise RuntimeError(\"activation should be relu/gelu, not {}\".format(activation))\n",
    "    \n",
    "class PositionalEncoding(nn.Module):\n",
    "\n",
    "    def __init__(self, d_model: int, dropout: float = 0.1, max_len: int = 5000):\n",
    "        super().__init__()\n",
    "        self.dropout = nn.Dropout(p=dropout)\n",
    "\n",
    "        position = torch.arange(max_len).unsqueeze(1)\n",
    "        div_term = torch.exp(torch.arange(0, d_model, 2) * (-math.log(10000.0) / d_model))\n",
    "        pe = torch.zeros(max_len, 1, d_model)\n",
    "        pe[:, 0, 0::2] = torch.sin(position * div_term)\n",
    "        pe[:, 0, 1::2] = torch.cos(position * div_term)\n",
    "        self.register_buffer('pe', pe)\n",
    "\n",
    "    def forward(self, x: Tensor) -> Tensor:\n",
    "        \"\"\"\n",
    "        Args:\n",
    "            x: Tensor, shape [seq_len, batch_size, embedding_dim]\n",
    "        \"\"\"\n",
    "        x = x + self.pe[:x.size(0)]\n",
    "        return self.dropout(x)"
   ]
  },
  {
   "cell_type": "code",
   "execution_count": 12,
   "id": "f5330de0-83e6-4c5e-93a0-8ae4f98e473b",
   "metadata": {},
   "outputs": [],
   "source": [
    "class get_Embedding(nn.Module): \n",
    "    def __init__(self, in_channels: int = 3, emb_size: int = 64):\n",
    "        super(get_Embedding, self).__init__()\n",
    "\n",
    "        self.projection =  nn.Sequential(\n",
    "            Rearrange('b s e -> b e s'),\n",
    "            nn.Conv1d(in_channels, emb_size, kernel_size = 1, stride = 1),\n",
    "            # Rearrange('b e s -> b s e')\n",
    "            )\n",
    "            \n",
    "        self.arrange1 = Rearrange('b e s -> s b e')\n",
    "        self.pos = PositionalEncoding(d_model=emb_size)\n",
    "        self.arrange2 = Rearrange('s b e -> b s e  ')\n",
    "\n",
    "    def forward(self, x: Tensor) -> Tensor:\n",
    "        x = self.projection(x)  \n",
    "        # add position embedding\n",
    "        x = self.arrange1(x)\n",
    "        x = self.pos(x)\n",
    "        x = self.arrange2(x)\n",
    "        return x"
   ]
  },
  {
   "cell_type": "code",
   "execution_count": 13,
   "id": "4d396614-3ab8-4c47-8faa-44469a50f40b",
   "metadata": {},
   "outputs": [],
   "source": [
    "class Atten_block(nn.Module): \n",
    "    def __init__(self, d_model=64, nhead=8, dropout=0.1,dim_feedforward=512,\n",
    "                 layer_norm_eps=1e-5):\n",
    "        super(Atten_block, self).__init__()\n",
    "       \n",
    "        self.norm = LayerNorm(d_model, eps=layer_norm_eps)#, **factory_kwargs)  \n",
    "        self.self_attn = MultiheadAttention(d_model, nhead, dropout=dropout, batch_first=True)#,\n",
    "                                            # **factory_kwargs)\n",
    "        self.dropout = Dropout(dropout)\n",
    "        \n",
    "        \n",
    "        self.norm_ff = LayerNorm(d_model, eps=layer_norm_eps)#, **factory_kwargs)\n",
    "        self.linear1 = Linear(d_model, dim_feedforward)#, **factory_kwargs)\n",
    "        self.relu = nn.ReLU()\n",
    "        self.dropout1 = Dropout(dropout)\n",
    "        self.linear2 = Linear(dim_feedforward, d_model)#, **factory_kwargs)\n",
    "        self.dropout2 = Dropout(dropout)\n",
    " \n",
    "\n",
    "    def forward(self, x: Tensor) -> Tensor:\n",
    "        src = x\n",
    "        src2 = self.self_attn(src, src, src)[0]\n",
    "        out = src + self.dropout(src2)\n",
    "        out = self.norm(out)   ########\n",
    "        \n",
    "        src2 = self.linear2(self.dropout1(self.relu(self.linear1(out))))\n",
    "        out = out + self.dropout2(src2)\n",
    "        out = self.norm_ff(out)\n",
    "        return out                           "
   ]
  },
  {
   "cell_type": "code",
   "execution_count": 14,
   "id": "285a8595-f745-42c3-9728-c669b54305ad",
   "metadata": {},
   "outputs": [],
   "source": [
    "class Trans_Encoder(nn.Module): \n",
    "    def __init__(self, in_channels = 3,d_model=64, nhead=8, dropout=0.1,dim_feedforward=512,\n",
    "                 layer_norm_eps=1e-5):\n",
    "        super(Trans_Encoder, self).__init__()\n",
    "        \n",
    "        self.embed = get_Embedding(in_channels = in_channels, emb_size = d_model)\n",
    "        self.atten_1 =  Atten_block(d_model=d_model, nhead=nhead, dropout=dropout,\n",
    "                                    dim_feedforward=dim_feedforward,layer_norm_eps=layer_norm_eps)\n",
    "        self.atten_2 =  Atten_block(d_model=d_model, nhead=nhead, dropout=dropout,\n",
    "                                    dim_feedforward=dim_feedforward,layer_norm_eps=layer_norm_eps)\n",
    "        \n",
    "    def forward(self, x):\n",
    "        x = self.embed(x)\n",
    "        x = self.atten_1(x)\n",
    "        x = self.atten_2(x)\n",
    "        \n",
    "        return x\n",
    "    \n",
    "\n",
    "class Trans_Decoder(nn.Module): \n",
    "    def __init__(self,out_channels= 3, d_model=64, nhead=8, dropout=0.1,dim_feedforward=512,\n",
    "                 layer_norm_eps=1e-5):\n",
    "        super(Trans_Decoder, self).__init__()\n",
    "        \n",
    "        # self.embed = get_Embedding(in_channels = 3, emb_size = d_model)\n",
    "        self.atten_1 =  Atten_block(d_model=d_model, nhead=nhead, dropout=dropout,\n",
    "                                    dim_feedforward=dim_feedforward,layer_norm_eps=layer_norm_eps)\n",
    "        self.atten_2 =  Atten_block(d_model=d_model, nhead=nhead, dropout=dropout,\n",
    "                                    dim_feedforward=dim_feedforward,layer_norm_eps=layer_norm_eps)\n",
    "        self.final = Linear(d_model, out_channels)\n",
    "        # self.arrange1 = Rearrange('b e s -> s b e')\n",
    "    def forward(self, c):\n",
    "        # x = self.embed(x)\n",
    "        x = self.atten_1(c)\n",
    "        x = self.atten_2(x)\n",
    "        x = self.final(x)\n",
    "        \n",
    "        \n",
    "        return x\n",
    "\n",
    "class linear_cls(nn.Module):\n",
    "    def __init__(self,y_times = 5):\n",
    "        super(linear_cls, self).__init__()\n",
    "        \n",
    "        self.Q = nn.Linear(1600, y_times)\n",
    "    def forward(self, c):\n",
    "        x = torch.flatten(c, start_dim=1, end_dim=- 1) \n",
    "        x = self.Q(x)\n",
    "        return x\n",
    "        "
   ]
  },
  {
   "cell_type": "code",
   "execution_count": 15,
   "id": "97e16223-b08f-4c46-aa79-267848d36746",
   "metadata": {},
   "outputs": [
    {
     "name": "stdout",
     "output_type": "stream",
     "text": [
      "torch.Size([32, 25, 3]) torch.Size([32, 25, 3]) torch.Size([32, 25, 3]) torch.Size([32, 5]) torch.Size([32, 1])\n",
      "torch.Size([32, 25, 64]) torch.Size([32, 25, 3]) torch.Size([32, 5])\n"
     ]
    }
   ],
   "source": [
    "encoder = Trans_Encoder().to(DEVICE)\n",
    "decoder = Trans_Decoder().to(DEVICE)\n",
    "Q = linear_cls().to(DEVICE)\n",
    "\n",
    "## Testing\n",
    "x,t,m,y,y_mask   = next(iter(train_data_loader))\n",
    "print(x.shape,t.shape,m.shape,y.shape,y_mask.shape )\n",
    "\n",
    "c_hat = encoder(x)\n",
    "x_hat = decoder(c_hat)\n",
    "y_hat = Q(c_hat)\n",
    "\n",
    "print(c_hat.shape,x_hat.shape,y_hat.shape)"
   ]
  },
  {
   "cell_type": "markdown",
   "id": "679430db-a882-4ed3-89eb-e9ea62ed10a6",
   "metadata": {
    "tags": []
   },
   "source": [
    "## Representation learning training"
   ]
  },
  {
   "cell_type": "code",
   "execution_count": 25,
   "id": "a701babd-fb77-4e51-9882-a4462fbba530",
   "metadata": {},
   "outputs": [],
   "source": [
    "#Training parameters\n",
    "criterion = nn.L1Loss()\n",
    "lr_u  = 0.001   \n",
    "beta_1 = 0.9\n",
    "beta_2 = 0.999\n",
    "n_epochs = 1000\n",
    "save_model_freq = 100"
   ]
  },
  {
   "cell_type": "code",
   "execution_count": 26,
   "id": "d0aa742a-eb56-49ef-a46c-ca720dbd034f",
   "metadata": {},
   "outputs": [],
   "source": [
    "#Initiate optimizers\n",
    "opt =  torch.optim.Adam(list(encoder.parameters()) + list(decoder.parameters())+ list(Q.parameters()), lr=lr_u, betas=(beta_1, beta_2))"
   ]
  },
  {
   "cell_type": "code",
   "execution_count": 27,
   "id": "d3e35bb3-6230-40a9-af04-2527f339d2fa",
   "metadata": {},
   "outputs": [],
   "source": [
    "def recon_loss(x_hat,x,m):\n",
    "    criterion = nn.MSELoss()\n",
    "    return criterion(x_hat*m,x*m)\n",
    "\n",
    "def sup_loss(y_hat,y,y_mask):\n",
    "    criterion = nn.MSELoss()\n",
    "    return criterion(y_hat*y_mask,y*y_mask)\n",
    "\n",
    "class AverageMeter(object):\n",
    "    \"\"\"Computes and stores the average and current value\"\"\"\n",
    "    def __init__(self):\n",
    "        self.reset()\n",
    "\n",
    "    def reset(self):\n",
    "        self.val = 0\n",
    "        self.avg = 0\n",
    "        self.sum = 0\n",
    "        self.count = 0\n",
    "\n",
    "    def update(self, val, n=1):\n",
    "        self.val = val\n",
    "        self.sum += val * n\n",
    "        self.count += n\n",
    "        self.avg = self.sum / self.count if self.count != 0 else 0\n"
   ]
  },
  {
   "cell_type": "code",
   "execution_count": 12,
   "id": "fc231d79-ffc2-43a4-8fe4-2b1b3493dd63",
   "metadata": {},
   "outputs": [],
   "source": [
    "is_wandb = False\n",
    "if is_wandb:\n",
    "    import wandb\n",
    "    wandb.init(project=\"SyncTwin\", entity=\"jathurshan_0330\")\n",
    "    wandb.run.name = \"Initial_With_Transformers\"\n",
    "    wandb.run.save()\n",
    "    \n",
    "    exp_path = f\"/home/jupyter-jathurshan/SyncTwin_Results/{wandb.run.name}\"\n",
    "    if not os.path.exists(exp_path):\n",
    "        os.mkdir(exp_path)\n"
   ]
  },
  {
   "cell_type": "code",
   "execution_count": 29,
   "id": "9e11545a-b005-4646-884c-65dd09a45f16",
   "metadata": {},
   "outputs": [],
   "source": [
    "def train(encoder,decoder,Q,opt,data_loader,is_wandb,verbose_freq = 500):\n",
    "    encoder.train()\n",
    "    decoder.train()\n",
    "    Q.train()\n",
    "    \n",
    "    batch_time = AverageMeter()\n",
    "    data_time = AverageMeter()\n",
    "    train_losses = AverageMeter()\n",
    "    end = time.time()\n",
    "    \n",
    "    for batch_idx, (x,t,m,y,y_mask ) in enumerate(data_loader): \n",
    "        data_time.update(time.time() - end)\n",
    "        \n",
    "        opt.zero_grad()\n",
    "        c_hat = encoder(x)\n",
    "        x_hat = decoder(c_hat)\n",
    "        y_hat = Q(c_hat)\n",
    "        \n",
    "        loss = recon_loss(x_hat,x,m) + sup_loss(y_hat,y,y_mask)\n",
    "        \n",
    "        loss.backward()\n",
    "        opt.step()\n",
    "        \n",
    "        train_losses.update(loss.data.item())\n",
    "        batch_time.update(time.time() - end)\n",
    "        end = time.time()\n",
    "        \n",
    "        if (batch_idx+1) % verbose_freq == 0:\n",
    "            msg = 'Epoch: [{0}/{3}][{1}/{2}]\\t' \\\n",
    "                  'Time {batch_time.val:.3f}s ({batch_time.avg:.3f}s)\\t' \\\n",
    "                  'Speed {speed:.1f} samples/s\\t' \\\n",
    "                  'Data {data_time.val:.3f}s ({data_time.avg:.3f}s)\\t' \\\n",
    "                  'Loss {train_loss.val:.5f} ({train_loss.avg:.5f})\\t'.format(\n",
    "                      epoch_idx+1, batch_idx,len(data_loader), n_epochs , batch_time=batch_time,\n",
    "                      speed=x.size(0)/batch_time.val,\n",
    "                      data_time=data_time, train_loss=train_losses)\n",
    "            print(msg)\n",
    "        \n",
    "        if is_wandb:\n",
    "            wandb.log({\"batch_loss\": loss.data.item()})\n",
    "    \n",
    "    \n",
    "    if is_wandb:\n",
    "            wandb.log({\"train_epoch_loss\": train_losses.avg})\n",
    "            wandb.log({\"training time/Iter\": batch_time.sum/len(data_loader)})\n",
    "    \n",
    "    \n",
    "    # print(f\"Evaluation   Epoch : {epoch_idx+1}  =====================>\")\n",
    "    print(f\"Training Epoch Loss: {train_losses.avg}\")#,Training Time/Epoch: {batch_time.sum},Training Time/Iter: {batch_time.sum/len(data_loader)}\")\n",
    "    \n",
    "    \n",
    "        \n",
    "        \n",
    "        \n",
    "    "
   ]
  },
  {
   "cell_type": "code",
   "execution_count": 30,
   "id": "8d8c56ca-c973-4290-a253-baa6caaf6502",
   "metadata": {},
   "outputs": [],
   "source": [
    "def validate(encoder,decoder,Q,data_loader,is_wandb):\n",
    "    encoder.eval()\n",
    "    decoder.eval()\n",
    "    Q.eval()\n",
    "    \n",
    "    val_losses = AverageMeter()\n",
    "    \n",
    "    \n",
    "    with torch.no_grad():\n",
    "        for batch_idx, (x,t,m,y,y_mask) in enumerate(data_loader): \n",
    "            c_hat = encoder(x)\n",
    "            x_hat = decoder(c_hat)\n",
    "            y_hat = Q(c_hat)\n",
    "\n",
    "            loss = recon_loss(x_hat,x,m) + sup_loss(y_hat,y,y_mask)\n",
    "            \n",
    "            val_losses.update(loss.data.item())\n",
    "    \n",
    "    if is_wandb:\n",
    "            wandb.log({\"val_epoch_loss\": val_losses.avg})\n",
    "    \n",
    "    \n",
    "    # print(f\"Evaluation   Epoch : {epoch_idx+1}  =====================>\")\n",
    "    print(f\"Val Epoch Loss: {val_losses.avg}\")\n",
    "    return val_losses.avg\n",
    "        "
   ]
  },
  {
   "cell_type": "code",
   "execution_count": 32,
   "id": "e6d9cada-09c6-4bb7-a24d-a376576ecc1d",
   "metadata": {},
   "outputs": [],
   "source": [
    "val_best_loss = 10000000\n",
    "\n",
    "for epoch_idx in range(n_epochs):\n",
    "    print(f\"Training Epoch : [{epoch_idx+1}/{n_epochs}]===============================================================================\")\n",
    "    \n",
    "    train(encoder,decoder,Q,opt,train_data_loader,is_wandb,verbose_freq = 500)    \n",
    "    val_losses = validate(encoder,decoder,Q,val_data_loader,is_wandb) \n",
    "    \n",
    "    if (val_losses < val_best_loss) and is_wandb: \n",
    "        val_best_loss = val_losses\n",
    "        print(\"Saving Best Model =======================================>\")\n",
    "        torch.save(encoder, f'{exp_path}/encoder.pth.tar')\n",
    "        torch.save(decoder, f'{exp_path}/decoder.pth.tar')\n",
    "        torch.save(Q, f'{exp_path}/Q.pth.tar')\n",
    "        wandb.log({\"epoch_saved_Best_Model\": epoch_idx+1})\n"
   ]
  },
  {
   "cell_type": "code",
   "execution_count": null,
   "id": "55a24dc9-141d-4786-8ab3-fef432bc120e",
   "metadata": {},
   "outputs": [],
   "source": [
    "\n"
   ]
  },
  {
   "cell_type": "markdown",
   "id": "b103cc49-0420-4024-92a2-4d54a2714603",
   "metadata": {},
   "source": [
    "# Inference for predicting conterfactual of y(0)"
   ]
  },
  {
   "cell_type": "code",
   "execution_count": 15,
   "id": "d74b9faf-6dd0-455f-8032-f0928f786b5e",
   "metadata": {},
   "outputs": [],
   "source": [
    "class LDL_Stim_Inference_Dataset(Dataset):\n",
    "    def __init__(self, data_path, fold,device,group = 'Treated'):\n",
    "        # Get the data\n",
    "        (self.x_full,self.t_full,self.mask_full,self.batch_ind_full,\n",
    "         self.y_full,self.y_control,self.y_mask_full,\n",
    "         self.m,self.sd,self.treatment_effect,) = load_tensor(data_path, fold)\n",
    "        \n",
    "        \n",
    "        self.x_full = torch.moveaxis(self.x_full,1,0)\n",
    "        self.t_full = torch.moveaxis(self.t_full,1,0)\n",
    "        self.mask_full = torch.moveaxis(self.mask_full,1,0)\n",
    "        self.y_full = torch.moveaxis(self.y_full,1,0).squeeze()\n",
    "        self.y_control = torch.moveaxis(self.y_control,1,0)\n",
    "        self.treatment_effect = torch.moveaxis(self.treatment_effect,1,0)\n",
    "        \n",
    "        self.device = device\n",
    "        \n",
    "        print(f\"Loading {group} Group\")\n",
    "        if group == 'Treated':\n",
    "            self.x_full = self.x_full[self.y_mask_full==0]\n",
    "            self.t_full = self.t_full[self.y_mask_full==0]\n",
    "            self.mask_full = self.mask_full[self.y_mask_full==0]\n",
    "            self.y_full = self.y_full[self.y_mask_full==0]\n",
    "            self.batch_ind_full = self.batch_ind_full[self.y_mask_full==0]\n",
    "        elif group == 'Control':\n",
    "            self.x_full = self.x_full[self.y_mask_full==1]\n",
    "            self.t_full = self.t_full[self.y_mask_full==1]\n",
    "            self.mask_full = self.mask_full[self.y_mask_full==1]\n",
    "            self.y_full = self.y_full[self.y_mask_full==1]\n",
    "            self.batch_ind_full = self.batch_ind_full[self.y_mask_full==1]\n",
    "            \n",
    "            \n",
    "        \n",
    "        \n",
    "        \n",
    "        print(f'x_full: {self.x_full.shape}') ### Temporal Covariates\n",
    "        print(f't_full: {self.t_full.shape}') ###  Time -25 to 4\n",
    "        print(f'mask_full: {self.mask_full.shape}') ### Masking vector\n",
    "        print(f'batch_ind_full: {self.batch_ind_full.shape}') ### Batch indexes\n",
    "        print(f'y_full: {self.y_full.shape}')   ### y_i ### need to predict this\n",
    "        print(f'y_control: {self.y_control.shape}') #### y_i(0)\n",
    "        print(f'treatment_effect: {self.treatment_effect.shape}')  #### y_i(1)\n",
    "        print(f'y_mask_full: {self.y_mask_full.shape}') ### if outcome not available during \n",
    "        print(f'm: {self.m.shape}') \n",
    "        print(f'sd: {self.sd.shape}')\n",
    "\n",
    "        \n",
    "    def __len__(self):\n",
    "        return len(self.x_full)\n",
    "\n",
    "    def __getitem__(self, idx):\n",
    "        x = self.x_full[idx].to(self.device)    \n",
    "        t = self.t_full[idx].to(self.device)    \n",
    "        m = self.mask_full[idx].to(self.device)    \n",
    "        y = self.y_full[idx].to(self.device)    \n",
    "        y_mask = self.y_mask_full[idx].unsqueeze(-1).to(self.device)  \n",
    "        batch_ind = self.batch_ind_full[idx].to(self.device)  \n",
    "        return x,t,m,y,y_mask,batch_ind"
   ]
  },
  {
   "cell_type": "code",
   "execution_count": 33,
   "id": "40294ad1-e6d3-496a-9cc1-30b3decbfcb5",
   "metadata": {},
   "outputs": [
    {
     "name": "stdout",
     "output_type": "stream",
     "text": [
      "./data/sync6d-p10-seed-100/test-x_full.pth\n",
      "Loading Treated Group\n",
      "x_full: torch.Size([200, 25, 3])\n",
      "t_full: torch.Size([200, 25, 3])\n",
      "mask_full: torch.Size([200, 25, 3])\n",
      "batch_ind_full: torch.Size([200])\n",
      "y_full: torch.Size([200, 5])\n",
      "y_control: torch.Size([1000, 5, 1])\n",
      "treatment_effect: torch.Size([200, 5, 1])\n",
      "y_mask_full: torch.Size([1200])\n",
      "m: torch.Size([3])\n",
      "sd: torch.Size([3])\n",
      "./data/sync6d-p10-seed-100/test-x_full.pth\n",
      "Loading Control Group\n",
      "x_full: torch.Size([1000, 25, 3])\n",
      "t_full: torch.Size([1000, 25, 3])\n",
      "mask_full: torch.Size([1000, 25, 3])\n",
      "batch_ind_full: torch.Size([1000])\n",
      "y_full: torch.Size([1000, 5])\n",
      "y_control: torch.Size([1000, 5, 1])\n",
      "treatment_effect: torch.Size([200, 5, 1])\n",
      "y_mask_full: torch.Size([1200])\n",
      "m: torch.Size([3])\n",
      "sd: torch.Size([3])\n"
     ]
    }
   ],
   "source": [
    "test_treated_dataset = LDL_Stim_Inference_Dataset(data_path, fold = 'test',device = DEVICE,group = 'Treated') \n",
    "test_control_dataset = LDL_Stim_Inference_Dataset(data_path, fold = 'test',device = DEVICE,group = 'Control') "
   ]
  },
  {
   "cell_type": "code",
   "execution_count": 38,
   "id": "f872b186-35e2-4af1-ad6c-9ecb297ea694",
   "metadata": {},
   "outputs": [],
   "source": [
    "treatment_data_loader = DataLoader(test_treated_dataset, batch_size = 200, shuffle = False)\n",
    "control_data_loader = DataLoader(test_control_dataset, batch_size = 1000, shuffle = False)"
   ]
  },
  {
   "cell_type": "code",
   "execution_count": 39,
   "id": "6dbabd5e-73da-48ec-bfac-564371d5533d",
   "metadata": {},
   "outputs": [
    {
     "name": "stdout",
     "output_type": "stream",
     "text": [
      "torch.Size([1000, 25, 3]) torch.Size([1000, 25, 3]) torch.Size([1000, 25, 3]) torch.Size([1000, 5]) torch.Size([1000, 1]) torch.Size([1000]) 1 1\n"
     ]
    }
   ],
   "source": [
    "x,t,m,y,y_mask,batch_ind   = next(iter(control_data_loader))\n",
    "print(x.shape,t.shape,m.shape,y.shape,y_mask.shape,batch_ind.shape,len(control_data_loader),len(treatment_data_loader) )"
   ]
  },
  {
   "cell_type": "code",
   "execution_count": 40,
   "id": "55e6bc54-9f68-4f48-b39e-27a83bb00ae0",
   "metadata": {},
   "outputs": [],
   "source": [
    "# batch_ind[1]#.detach().cpu().numpy()\n",
    "# x[batch_ind[1]]"
   ]
  },
  {
   "cell_type": "code",
   "execution_count": 41,
   "id": "ea05160a-8b9f-4c29-9381-ab556df30fae",
   "metadata": {},
   "outputs": [],
   "source": [
    "def get_representation(encoder,data_loader):\n",
    "    \n",
    "    for batch_idx, (x,t,m,y,y_mask,batch_ind) in enumerate(data_loader): \n",
    "        c_hat = encoder(x)\n",
    "        if batch_idx ==0:\n",
    "            c = c_hat\n",
    "        else:\n",
    "            c = torch.cat((c,c_hat),dim = 0)\n",
    "    return c\n",
    "            \n",
    "    "
   ]
  },
  {
   "cell_type": "code",
   "execution_count": 42,
   "id": "85031525-7257-4db2-84f7-6fff944a0512",
   "metadata": {},
   "outputs": [
    {
     "name": "stdout",
     "output_type": "stream",
     "text": [
      "166272\n"
     ]
    }
   ],
   "source": [
    "#Load encoder\n",
    "enc_path = '/home/jupyter-jathurshan/SyncTwin_Results/Initial_With_Transformers/encoder.pth.tar'\n",
    "encoder = torch.load(enc_path).to(DEVICE)\n",
    "encoder.eval()\n",
    "print(sum([np.prod(p.size()) for p in encoder.parameters()]))"
   ]
  },
  {
   "cell_type": "code",
   "execution_count": 166,
   "id": "1863f3ba-b560-431d-9828-e97d11f80cae",
   "metadata": {},
   "outputs": [
    {
     "name": "stdout",
     "output_type": "stream",
     "text": [
      "torch.Size([200, 25, 64]) torch.Size([1000, 25, 64])\n"
     ]
    }
   ],
   "source": [
    "c_treat  = get_representation(encoder,treatment_data_loader).detach().to(DEVICE)\n",
    "c_control  = get_representation(encoder,control_data_loader).detach().to(DEVICE)\n",
    "\n",
    "print(c_treat.shape,c_control.shape)"
   ]
  },
  {
   "cell_type": "code",
   "execution_count": 167,
   "id": "0ed008ae-b61d-435f-8600-ef1626343e1e",
   "metadata": {},
   "outputs": [],
   "source": [
    "def matching_loss(c_hat,c):\n",
    "    criterion = nn.MSELoss()\n",
    "    return criterion(c_hat,c)\n"
   ]
  },
  {
   "cell_type": "code",
   "execution_count": 221,
   "id": "4e8430a7-79eb-4b3c-a3d9-f5aa09c6c493",
   "metadata": {},
   "outputs": [],
   "source": [
    "def learn_B(c_target,c_non_target,num_iterations=1000):\n",
    "    B = torch.zeros(len(c_target),len(c_non_target),1,1).to(DEVICE).requires_grad_(True)#nn.Parameter(torch.zeros(len(c_target),len(c_non_target),1,1)).to(DEVICE)\n",
    "    print(B.shape,c_target.shape,c_non_target.shape)\n",
    "    \n",
    "    plt.figure(figsize=(30,10))\n",
    "    im = plt.imshow(B.squeeze().detach().cpu().numpy(),cmap = 'jet')\n",
    "    plt.colorbar(shrink = 0.5)\n",
    "    plt.show()\n",
    "    \n",
    "    opt =  torch.optim.Adam([B], lr=0.001, betas=(0.9, 0.999))\n",
    "    matching_losses = []\n",
    "    for i in range(num_iterations):\n",
    "        opt.zero_grad()\n",
    "        target_ind = np.random.choice(len(c_target),32,replace=False)\n",
    "        c_target_sample = c_target[target_ind]\n",
    "        loss = 0\n",
    "        for ind in range(len(target_ind)):\n",
    "            c_est = B[target_ind[ind]]*c_non_target#F.gumbel_softmax(B[target_ind[ind]]*c_non_target, tau=1, hard=False)\n",
    "            \n",
    "            if ind ==0:\n",
    "                c_estimate = torch.sum(c_est,axis=0).unsqueeze(0)\n",
    "            else:\n",
    "                c_estimate = torch.cat((c_estimate,torch.sum(c_est,axis=0).unsqueeze(0)),dim=0)\n",
    "    \n",
    "        loss = matching_loss(c_estimate,c_target_sample)#/len(target_ind) \n",
    "        loss.backward()\n",
    "        opt.step()\n",
    "        matching_losses.append(loss.data.item())\n",
    "        \n",
    "    # print(matching_losses)\n",
    "    plt.figure()\n",
    "    plt.plot(matching_losses)\n",
    "    plt.show()\n",
    "    \n",
    "    \n",
    "    plt.figure(figsize=(30,10))\n",
    "    plt.imshow(B.squeeze().detach().cpu().numpy(),cmap = 'jet')\n",
    "    plt.colorbar(shrink = 0.5)\n",
    "    plt.show()\n",
    "    \n",
    "    return B\n",
    "    \n",
    "        \n",
    "        \n",
    "    \n",
    "    \n",
    "                    "
   ]
  },
  {
   "cell_type": "code",
   "execution_count": null,
   "id": "3ff90036-32c3-4779-ac90-de6bcbbceeaf",
   "metadata": {},
   "outputs": [
    {
     "name": "stdout",
     "output_type": "stream",
     "text": [
      "torch.Size([200, 1000, 1, 1]) torch.Size([200, 25, 64]) torch.Size([1000, 25, 64])\n"
     ]
    },
    {
     "data": {
      "image/png": "[encoded data removed]",
      "text/plain": [
       "<Figure size 2160x720 with 2 Axes>"
      ]
     },
     "metadata": {
      "needs_background": "light"
     },
     "output_type": "display_data"
    }
   ],
   "source": [
    "B_treat = learn_B(c_treat,c_control,num_iterations =10000)"
   ]
  },
  {
   "cell_type": "code",
   "execution_count": null,
   "id": "b6577244-191a-4e23-a8f3-6360a4dcc951",
   "metadata": {},
   "outputs": [],
   "source": []
  }
 ],
 "metadata": {
  "kernelspec": {
   "display_name": "Python 3 (ipykernel)",
   "language": "python",
   "name": "python3"
  },
  "language_info": {
   "codemirror_mode": {
    "name": "ipython",
    "version": 3
   },
   "file_extension": ".py",
   "mimetype": "text/x-python",
   "name": "python",
   "nbconvert_exporter": "python",
   "pygments_lexer": "ipython3",
   "version": "3.7.11"
  }
 },
 "nbformat": 4,
 "nbformat_minor": 5
}
